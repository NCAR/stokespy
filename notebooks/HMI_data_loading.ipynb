{
 "cells": [
  {
   "cell_type": "markdown",
   "id": "51836ca9-5dec-44a9-a574-435fcab94d4a",
   "metadata": {},
   "source": [
    "# Load HMI data into lvl1 and lvl2 datacubes"
   ]
  },
  {
   "cell_type": "code",
   "execution_count": 1,
   "id": "d8f0c730-a507-4288-9331-3295107b57a4",
   "metadata": {},
   "outputs": [],
   "source": [
    "# Plotting packages\n",
    "import matplotlib.pyplot as plt\n",
    "\n",
    "import os\n",
    "import natsort  # Sorting package. Used when I parse the folder for files. There may be simpler ways to do this.\n",
    "import numpy as np\n",
    "\n",
    "import astropy.units as u\n",
    "import astropy.wcs\n",
    "from astropy.coordinates import SkyCoord, SpectralCoord\n",
    "\n",
    "import stokespy\n",
    "\n",
    "# Set working directory. \n",
    "# This should be automated.\n",
    "work_dir = os.getcwd()\n",
    "\n",
    "data_dir = work_dir + '/Data/SDO/'\n",
    "\n",
    "script_name = 'HMI_data_loading'\n",
    "\n",
    "from ndcube import NDCube, GlobalCoords, ExtraCoords"
   ]
  },
  {
   "cell_type": "code",
   "execution_count": 4,
   "id": "bbc0741b-f5e2-446b-9e86-ce430b9f620d",
   "metadata": {},
   "outputs": [
    {
     "data": {
      "text/plain": [
       "\"\\n# Parse the data folder and select subset of files.\\ninst = 'aia'\\nwave = '171'\\n\\nuse_fnames = parse_folder(dir_path = img_dir, ext='fits', inst='aia', wave='171')\\nprint(len(use_fnames))\\nfor i in use_fnames:\\n    print(i)\\n\""
      ]
     },
     "execution_count": 4,
     "metadata": {},
     "output_type": "execute_result"
    }
   ],
   "source": [
    "def parse_folder(dir_path=None, inst=None, wave=None, ext=None, \n",
    "                 series=None, repo='JSOC', show=False):\n",
    "    '''\n",
    "    Search all the filenames in a folder containing SDO data and use the keywords\n",
    "    to select a desired subset. For example setting inst=\"hmi\" will obtain all the hmi filenames.\n",
    "    inst: SDO instrument\n",
    "    wave: wavelength (mostly for AIA data)\n",
    "    ext: limit by file extension\n",
    "    '''\n",
    "    \n",
    "    if dir_path is None:\n",
    "        dir_path = os.getcwd()\n",
    "    \n",
    "    # Read and sort all the filenames in the folder.\n",
    "    all_fnames = natsort.natsorted(os.listdir(dir_path)) \n",
    "    \n",
    "    # Select a subset of files\n",
    "    use_fnames = []\n",
    "    \n",
    "    for i, file_ in enumerate(all_fnames):\n",
    "        if repo == 'JSOC':\n",
    "            sfile_ = file_.lower().split(\".\")\n",
    "        elif repo == 'VSO':\n",
    "            sfile_ = file_.lower().split(\"_\")\n",
    "        \n",
    "        if sfile_[0] == inst.lower() and sfile_[1] == series.lower(): \n",
    "            use_fnames.append(dir_path + file_)\n",
    "        \n",
    "        '''\n",
    "        if ext is None and inst is None:\n",
    "            use_fnames.append(dir_path + file_)\n",
    "        elif ext is None and inst is not None and sfile_[0] == inst.lower() and wave is None:\n",
    "            use_fnames.append(dir_path + file_)\n",
    "        elif ext is None and inst is not None and sfile_[0] == inst.lower() and wave is not None and sfile_[2] == wave + 'a':\n",
    "            use_fnames.append(dir_path + file_)\n",
    "        elif ext is not None and file_.endswith(ext) and inst is None:\n",
    "            use_fnames.append(dir_path + file_)\n",
    "        elif ext is not None and file_.endswith(ext) and inst is not None and sfile_[0] == inst.lower() and wave is None:\n",
    "            use_fnames.append(dir_path + file_)\n",
    "        elif ext is not None and file_.endswith(ext) and inst is not None and sfile_[0] == inst.lower() and wave is not None and sfile_[2] == wave + 'a':\n",
    "            use_fnames.append(dir_path + file_)\n",
    "        '''\n",
    "    '''\n",
    "    for i, file_ in enumerate(all_fnames):\n",
    "        # Select by extension.\n",
    "        if ext is not None and file_.endswith(ext):        \n",
    "            sfile_ = file_.split(\"_\")\n",
    "            # Select by instrument.\n",
    "            if inst is not None and sfile_[0] == inst.lower(): \n",
    "                if wave is not None and inst.lower() == 'aia' and sfile_[2] == wave + 'a':   \n",
    "                    use_fnames.append(dir_path + file_)\n",
    "        else:\n",
    "            sfile_ = file_.split(\"_\")\n",
    "            # Select by instrument.\n",
    "            if inst is not None and sfile_[0] == inst.lower(): \n",
    "                if wave is not None and inst.lower() == 'aia' and sfile_[2] == wave + 'a':   \n",
    "                    use_fnames.append(dir_path + file_)\n",
    "    '''\n",
    "    \n",
    "    if show:\n",
    "        for i, file_ in enumerate(use_fnames):\n",
    "            print(i, file_)\n",
    "    \n",
    "    return use_fnames\n",
    "\n",
    "# Test the functiom.\n",
    "'''\n",
    "# Parse the data folder and select subset of files.\n",
    "inst = 'aia'\n",
    "wave = '171'\n",
    "\n",
    "use_fnames = parse_folder(dir_path = img_dir, ext='fits', inst='aia', wave='171')\n",
    "print(len(use_fnames))\n",
    "for i in use_fnames:\n",
    "    print(i)\n",
    "'''"
   ]
  },
  {
   "cell_type": "markdown",
   "id": "d7e7a577-ff90-4c6c-bd9b-d91d29a8afea",
   "metadata": {},
   "source": [
    "# Create StokesCube from HMI images"
   ]
  },
  {
   "cell_type": "code",
   "execution_count": 5,
   "id": "04dff178-9811-4fcf-b770-331b8860bdfa",
   "metadata": {},
   "outputs": [
    {
     "name": "stdout",
     "output_type": "stream",
     "text": [
      "0 /home/gabriel/Desktop/Science/StokesPY/stokespy/notebooks/Data/SDO/hmi.s_720s.20160729_000000_TAI.3.I0.fits\n",
      "1 /home/gabriel/Desktop/Science/StokesPY/stokespy/notebooks/Data/SDO/hmi.s_720s.20160729_000000_TAI.3.I1.fits\n",
      "2 /home/gabriel/Desktop/Science/StokesPY/stokespy/notebooks/Data/SDO/hmi.s_720s.20160729_000000_TAI.3.I2.fits\n",
      "3 /home/gabriel/Desktop/Science/StokesPY/stokespy/notebooks/Data/SDO/hmi.s_720s.20160729_000000_TAI.3.I3.fits\n",
      "4 /home/gabriel/Desktop/Science/StokesPY/stokespy/notebooks/Data/SDO/hmi.s_720s.20160729_000000_TAI.3.I4.fits\n",
      "5 /home/gabriel/Desktop/Science/StokesPY/stokespy/notebooks/Data/SDO/hmi.s_720s.20160729_000000_TAI.3.I5.fits\n",
      "6 /home/gabriel/Desktop/Science/StokesPY/stokespy/notebooks/Data/SDO/hmi.s_720s.20160729_000000_TAI.3.Q0.fits\n",
      "7 /home/gabriel/Desktop/Science/StokesPY/stokespy/notebooks/Data/SDO/hmi.s_720s.20160729_000000_TAI.3.Q1.fits\n",
      "8 /home/gabriel/Desktop/Science/StokesPY/stokespy/notebooks/Data/SDO/hmi.s_720s.20160729_000000_TAI.3.Q2.fits\n",
      "9 /home/gabriel/Desktop/Science/StokesPY/stokespy/notebooks/Data/SDO/hmi.s_720s.20160729_000000_TAI.3.Q3.fits\n",
      "10 /home/gabriel/Desktop/Science/StokesPY/stokespy/notebooks/Data/SDO/hmi.s_720s.20160729_000000_TAI.3.Q4.fits\n",
      "11 /home/gabriel/Desktop/Science/StokesPY/stokespy/notebooks/Data/SDO/hmi.s_720s.20160729_000000_TAI.3.Q5.fits\n",
      "12 /home/gabriel/Desktop/Science/StokesPY/stokespy/notebooks/Data/SDO/hmi.s_720s.20160729_000000_TAI.3.U0.fits\n",
      "13 /home/gabriel/Desktop/Science/StokesPY/stokespy/notebooks/Data/SDO/hmi.s_720s.20160729_000000_TAI.3.U1.fits\n",
      "14 /home/gabriel/Desktop/Science/StokesPY/stokespy/notebooks/Data/SDO/hmi.s_720s.20160729_000000_TAI.3.U2.fits\n",
      "15 /home/gabriel/Desktop/Science/StokesPY/stokespy/notebooks/Data/SDO/hmi.s_720s.20160729_000000_TAI.3.U3.fits\n",
      "16 /home/gabriel/Desktop/Science/StokesPY/stokespy/notebooks/Data/SDO/hmi.s_720s.20160729_000000_TAI.3.U4.fits\n",
      "17 /home/gabriel/Desktop/Science/StokesPY/stokespy/notebooks/Data/SDO/hmi.s_720s.20160729_000000_TAI.3.U5.fits\n",
      "18 /home/gabriel/Desktop/Science/StokesPY/stokespy/notebooks/Data/SDO/hmi.s_720s.20160729_000000_TAI.3.V0.fits\n",
      "19 /home/gabriel/Desktop/Science/StokesPY/stokespy/notebooks/Data/SDO/hmi.s_720s.20160729_000000_TAI.3.V1.fits\n",
      "20 /home/gabriel/Desktop/Science/StokesPY/stokespy/notebooks/Data/SDO/hmi.s_720s.20160729_000000_TAI.3.V2.fits\n",
      "21 /home/gabriel/Desktop/Science/StokesPY/stokespy/notebooks/Data/SDO/hmi.s_720s.20160729_000000_TAI.3.V3.fits\n",
      "22 /home/gabriel/Desktop/Science/StokesPY/stokespy/notebooks/Data/SDO/hmi.s_720s.20160729_000000_TAI.3.V4.fits\n",
      "23 /home/gabriel/Desktop/Science/StokesPY/stokespy/notebooks/Data/SDO/hmi.s_720s.20160729_000000_TAI.3.V5.fits\n"
     ]
    }
   ],
   "source": [
    "# Obtain a list of available HMI images \n",
    "# This needs to be improved to accept user imput for the date\n",
    "# and type of series wanted. \n",
    "# Stokes series is labeled with: S_720s\n",
    "\n",
    "all_fnames= parse_folder(dir_path=data_dir, inst='hmi', series='S_720s', ext='fits', show=True)"
   ]
  },
  {
   "cell_type": "markdown",
   "id": "b9306173-9150-4078-8a71-e974625f2352",
   "metadata": {},
   "source": [
    "## Create data array"
   ]
  },
  {
   "cell_type": "code",
   "execution_count": 6,
   "id": "ba3c209f-1a59-4159-9305-23bf63f067f0",
   "metadata": {},
   "outputs": [
    {
     "name": "stdout",
     "output_type": "stream",
     "text": [
      "Created data cube with dimensions: (4, 6, 4096, 4096)\n"
     ]
    }
   ],
   "source": [
    "level1_data = []\n",
    "wcs_obj = []\n",
    "header_info = []\n",
    "\n",
    "for i, fname in enumerate(all_fnames):\n",
    "    with astropy.io.fits.open(fname) as hdulist:\n",
    "        level1_data.append(hdulist[1].data)\n",
    "        wcs_obj.append(astropy.wcs.WCS(hdulist[1].header))\n",
    "        header_info.append(hdulist[1].header)\n",
    "    \n",
    "level1_data = np.asarray(level1_data)\n",
    "level1_data = level1_data.reshape(4,6,level1_data.shape[1], level1_data.shape[2])\n",
    "\n",
    "print(f'Created data cube with dimensions: {level1_data.shape}')"
   ]
  },
  {
   "cell_type": "markdown",
   "id": "e07e78ee-d7dd-44bc-bda7-9103ea18e666",
   "metadata": {},
   "source": [
    "## Create WCS"
   ]
  },
  {
   "cell_type": "code",
   "execution_count": 7,
   "id": "84870c31-79f4-4813-8a22-c2f3acc31114",
   "metadata": {},
   "outputs": [],
   "source": [
    "# Expand the coordinate axis to include wavelength and stokes dimensions.\n",
    "\n",
    "l0 = 6173.345 * 1.e-10  # m Central wavelength for FeI line\n",
    "dl = 0.0688   * 1.e-10  # m \n",
    "\n",
    "# Generate WCS for data cube using same WCS celestial information from AIA map.\n",
    "wcs_header = wcs_obj[0].to_header()\n",
    "\n",
    "wcs_header[\"WCSAXES\"] = 4\n",
    "\n",
    "# Add wavelength axis.\n",
    "wcs_header[\"CRPIX3\"] = 3.5\n",
    "wcs_header[\"CDELT3\"] = dl\n",
    "wcs_header[\"CUNIT3\"] = 'm'\n",
    "wcs_header[\"CTYPE3\"] = \"WAVE\"\n",
    "wcs_header[\"CRVAL3\"] = l0\n",
    "\n",
    "# Add Stokes axis.\n",
    "wcs_header[\"CRPIX4\"] = 0\n",
    "wcs_header[\"CDELT4\"] = 1\n",
    "wcs_header[\"CUNIT4\"] = ''\n",
    "wcs_header[\"CTYPE4\"] = \"STOKES\"\n",
    "wcs_header[\"CRVAL4\"] = 0\n",
    "\n",
    "level1_wcs = astropy.wcs.WCS(wcs_header)"
   ]
  },
  {
   "cell_type": "code",
   "execution_count": 8,
   "id": "fdffd828-367f-45db-bf7c-f0c0e52d0b70",
   "metadata": {},
   "outputs": [
    {
     "data": {
      "text/plain": [
       "WCS Keywords\n",
       "\n",
       "Number of WCS axes: 4\n",
       "CTYPE : 'HPLN-TAN'  'HPLT-TAN'  'WAVE'  'STOKES'  \n",
       "CRVAL : 0.0  0.0  6.173345e-07  0.0  \n",
       "CRPIX : 2039.1423339844  2051.4689941406  3.5  0.0  \n",
       "PC1_1 PC1_2 PC1_3 PC1_4  : -0.99999997203655  0.00023648870259451  0.0  0.0  \n",
       "PC2_1 PC2_2 PC2_3 PC2_4  : -0.00023648870259451  -0.99999997203655  0.0  0.0  \n",
       "PC3_1 PC3_2 PC3_3 PC3_4  : 0.0  0.0  1.0  0.0  \n",
       "PC4_1 PC4_2 PC4_3 PC4_4  : 0.0  0.0  0.0  1.0  \n",
       "CDELT : 0.00014009369744195  0.00014009369744195  6.88e-12  1.0  \n",
       "NAXIS : 0  0"
      ]
     },
     "execution_count": 8,
     "metadata": {},
     "output_type": "execute_result"
    }
   ],
   "source": [
    "level1_wcs"
   ]
  },
  {
   "cell_type": "code",
   "execution_count": 9,
   "id": "3eab1e3d-466d-4272-9d92-162059ebcf5b",
   "metadata": {},
   "outputs": [
    {
     "data": {
      "text/plain": [
       "['deg', 'deg', 'm', '']"
      ]
     },
     "execution_count": 9,
     "metadata": {},
     "output_type": "execute_result"
    }
   ],
   "source": [
    "level1_wcs.world_axis_units"
   ]
  },
  {
   "cell_type": "markdown",
   "id": "9df96757-7ffa-463b-9bd8-1f4ed1dee219",
   "metadata": {},
   "source": [
    "## Create the StokesCube object"
   ]
  },
  {
   "cell_type": "code",
   "execution_count": 10,
   "id": "e1adaccd-41d6-4869-b0e9-c5552c43dea4",
   "metadata": {},
   "outputs": [],
   "source": [
    "level1_cube = stokespy.StokesCube(level1_data, level1_wcs)"
   ]
  },
  {
   "cell_type": "code",
   "execution_count": 11,
   "id": "c115fd91-f33c-4049-8293-4a8f13229f46",
   "metadata": {},
   "outputs": [
    {
     "name": "stdout",
     "output_type": "stream",
     "text": [
      "Input wavelength \n",
      "[6.1731730e-07 6.1732418e-07 6.1733106e-07 6.1733794e-07 6.1734482e-07\n",
      " 6.1735170e-07]\n",
      "StokesCube wavelength\n",
      "[6.1731730e-07 6.1732418e-07 6.1733106e-07 6.1733794e-07 6.1734482e-07\n",
      " 6.1735170e-07] m\n"
     ]
    }
   ],
   "source": [
    "# Spectral axis checks out.\n",
    "print('Input wavelength ') \n",
    "print((l0 + dl * (np.arange(0,6) - 3.5 + 1)))\n",
    "print('StokesCube wavelength')\n",
    "print(level1_cube.spectral_axis)"
   ]
  },
  {
   "cell_type": "markdown",
   "id": "be8122d9-5c96-494b-b738-bcdd1bb68c2c",
   "metadata": {},
   "source": [
    "# Create MagVectorCube from HMI inversions"
   ]
  },
  {
   "cell_type": "code",
   "execution_count": 12,
   "id": "6d189685-e619-4141-9ec8-39c3ea68d6a4",
   "metadata": {},
   "outputs": [
    {
     "name": "stdout",
     "output_type": "stream",
     "text": [
      "0 /home/gabriel/Desktop/Science/StokesPY/stokespy/notebooks/Data/SDO/hmi.me_720s_fd10.20160729_000000_TAI.alpha_err.fits\n",
      "1 /home/gabriel/Desktop/Science/StokesPY/stokespy/notebooks/Data/SDO/hmi.me_720s_fd10.20160729_000000_TAI.alpha_mag.fits\n",
      "2 /home/gabriel/Desktop/Science/StokesPY/stokespy/notebooks/Data/SDO/hmi.me_720s_fd10.20160729_000000_TAI.azimuth.fits\n",
      "3 /home/gabriel/Desktop/Science/StokesPY/stokespy/notebooks/Data/SDO/hmi.me_720s_fd10.20160729_000000_TAI.azimuth_alpha_err.fits\n",
      "4 /home/gabriel/Desktop/Science/StokesPY/stokespy/notebooks/Data/SDO/hmi.me_720s_fd10.20160729_000000_TAI.azimuth_err.fits\n",
      "5 /home/gabriel/Desktop/Science/StokesPY/stokespy/notebooks/Data/SDO/hmi.me_720s_fd10.20160729_000000_TAI.chisq.fits\n",
      "6 /home/gabriel/Desktop/Science/StokesPY/stokespy/notebooks/Data/SDO/hmi.me_720s_fd10.20160729_000000_TAI.confid_map.fits\n",
      "7 /home/gabriel/Desktop/Science/StokesPY/stokespy/notebooks/Data/SDO/hmi.me_720s_fd10.20160729_000000_TAI.conv_flag.fits\n",
      "8 /home/gabriel/Desktop/Science/StokesPY/stokespy/notebooks/Data/SDO/hmi.me_720s_fd10.20160729_000000_TAI.damping.fits\n",
      "9 /home/gabriel/Desktop/Science/StokesPY/stokespy/notebooks/Data/SDO/hmi.me_720s_fd10.20160729_000000_TAI.dop_width.fits\n",
      "10 /home/gabriel/Desktop/Science/StokesPY/stokespy/notebooks/Data/SDO/hmi.me_720s_fd10.20160729_000000_TAI.eta_0.fits\n",
      "11 /home/gabriel/Desktop/Science/StokesPY/stokespy/notebooks/Data/SDO/hmi.me_720s_fd10.20160729_000000_TAI.field.fits\n",
      "12 /home/gabriel/Desktop/Science/StokesPY/stokespy/notebooks/Data/SDO/hmi.me_720s_fd10.20160729_000000_TAI.field_alpha_err.fits\n",
      "13 /home/gabriel/Desktop/Science/StokesPY/stokespy/notebooks/Data/SDO/hmi.me_720s_fd10.20160729_000000_TAI.field_az_err.fits\n",
      "14 /home/gabriel/Desktop/Science/StokesPY/stokespy/notebooks/Data/SDO/hmi.me_720s_fd10.20160729_000000_TAI.field_err.fits\n",
      "15 /home/gabriel/Desktop/Science/StokesPY/stokespy/notebooks/Data/SDO/hmi.me_720s_fd10.20160729_000000_TAI.field_inclination_err.fits\n",
      "16 /home/gabriel/Desktop/Science/StokesPY/stokespy/notebooks/Data/SDO/hmi.me_720s_fd10.20160729_000000_TAI.inclin_azimuth_err.fits\n",
      "17 /home/gabriel/Desktop/Science/StokesPY/stokespy/notebooks/Data/SDO/hmi.me_720s_fd10.20160729_000000_TAI.inclination.fits\n",
      "18 /home/gabriel/Desktop/Science/StokesPY/stokespy/notebooks/Data/SDO/hmi.me_720s_fd10.20160729_000000_TAI.inclination_alpha_err.fits\n",
      "19 /home/gabriel/Desktop/Science/StokesPY/stokespy/notebooks/Data/SDO/hmi.me_720s_fd10.20160729_000000_TAI.inclination_err.fits\n",
      "20 /home/gabriel/Desktop/Science/StokesPY/stokespy/notebooks/Data/SDO/hmi.me_720s_fd10.20160729_000000_TAI.qual_map.fits\n",
      "21 /home/gabriel/Desktop/Science/StokesPY/stokespy/notebooks/Data/SDO/hmi.me_720s_fd10.20160729_000000_TAI.src_continuum.fits\n",
      "22 /home/gabriel/Desktop/Science/StokesPY/stokespy/notebooks/Data/SDO/hmi.me_720s_fd10.20160729_000000_TAI.src_grad.fits\n",
      "23 /home/gabriel/Desktop/Science/StokesPY/stokespy/notebooks/Data/SDO/hmi.me_720s_fd10.20160729_000000_TAI.vlos_err.fits\n",
      "24 /home/gabriel/Desktop/Science/StokesPY/stokespy/notebooks/Data/SDO/hmi.me_720s_fd10.20160729_000000_TAI.vlos_mag.fits\n"
     ]
    }
   ],
   "source": [
    "# Obtain a list of available HMI images \n",
    "# This needs to be improved to accept user imput for the date\n",
    "# and type of series wanted. \n",
    "# Stokes series is labeled with: S_720s\n",
    "\n",
    "all_fnames = parse_folder(dir_path=data_dir, inst='hmi', series='me_720s_fd10', ext='fits', show=True)"
   ]
  },
  {
   "cell_type": "markdown",
   "id": "f553d1c6-c4a3-4cec-ab5e-cb7399065afa",
   "metadata": {},
   "source": [
    "## Create data array"
   ]
  },
  {
   "cell_type": "code",
   "execution_count": 13,
   "id": "7dc65b1b-d9ff-48ca-9875-94562b45d767",
   "metadata": {},
   "outputs": [
    {
     "name": "stdout",
     "output_type": "stream",
     "text": [
      "Created data cube with dimensions: (3, 4096, 4096)\n",
      "Filenames used: \n",
      "/home/gabriel/Desktop/Science/StokesPY/stokespy/notebooks/Data/SDO/hmi.me_720s_fd10.20160729_000000_TAI.field.fits\n",
      "/home/gabriel/Desktop/Science/StokesPY/stokespy/notebooks/Data/SDO/hmi.me_720s_fd10.20160729_000000_TAI.inclination.fits\n",
      "/home/gabriel/Desktop/Science/StokesPY/stokespy/notebooks/Data/SDO/hmi.me_720s_fd10.20160729_000000_TAI.azimuth.fits\n"
     ]
    }
   ],
   "source": [
    "mag_params = ['field', 'inclination', 'azimuth']\n",
    "\n",
    "level2_data = []\n",
    "wcs_obj = []\n",
    "header_info = []\n",
    "\n",
    "# Load the data in the order determined y\n",
    "use_fnames = []\n",
    "for mag_param in mag_params:\n",
    "    for i, fname in enumerate(all_fnames):\n",
    "        data_id = fname.split('.')[-2]\n",
    "        if data_id == mag_param:\n",
    "            use_fnames.append(fname)\n",
    "            with astropy.io.fits.open(fname) as hdulist:\n",
    "                level2_data.append(hdulist[1].data)\n",
    "                wcs_obj.append(astropy.wcs.WCS(hdulist[1].header))\n",
    "                header_info.append(hdulist[1].header)\n",
    "            \n",
    "level2_data = np.asarray(level2_data)\n",
    "            \n",
    "print(f'Created data cube with dimensions: {level2_data.shape}')\n",
    "print('Filenames used: ')\n",
    "for fname in use_fnames:\n",
    "    print(fname)"
   ]
  },
  {
   "cell_type": "markdown",
   "id": "3628669e-5cae-4171-8cfe-aa5449db3863",
   "metadata": {},
   "source": [
    "## Create WCS"
   ]
  },
  {
   "cell_type": "code",
   "execution_count": 14,
   "id": "1320b0bf-68ef-4491-a81c-fbfbe24b4554",
   "metadata": {},
   "outputs": [],
   "source": [
    "# Expand the wcs coordinates to include the magnetic field parameters.\n",
    "\n",
    "# Generate WCS for data cube using same WCS celestial information from AIA map.\n",
    "wcs_header = wcs_obj[0].to_header()\n",
    "\n",
    "wcs_header[\"WCSAXES\"] = 3\n",
    "\n",
    "# Add Stokes axis.\n",
    "wcs_header[\"CRPIX3\"] = 0\n",
    "wcs_header[\"CDELT3\"] = 1\n",
    "wcs_header[\"CUNIT3\"] = ''\n",
    "wcs_header[\"CTYPE3\"] = \"Parameter\"\n",
    "wcs_header[\"CRVAL3\"] = 0\n",
    "\n",
    "level2_wcs = astropy.wcs.WCS(wcs_header)"
   ]
  },
  {
   "cell_type": "markdown",
   "id": "d6414bfb-0b50-4f58-9541-4b4b567713a1",
   "metadata": {},
   "source": [
    "## Create the MagVectorCube object"
   ]
  },
  {
   "cell_type": "code",
   "execution_count": 15,
   "id": "dcd1b5c1-4cd6-4831-aac2-6286d2dc0d44",
   "metadata": {},
   "outputs": [],
   "source": [
    "level2_cube = stokespy.MagVectorCube(level2_data, level2_wcs)"
   ]
  },
  {
   "cell_type": "code",
   "execution_count": 17,
   "id": "f5d95ce9-6ba5-44aa-8bf3-0c57baf4eeca",
   "metadata": {},
   "outputs": [
    {
     "data": {
      "application/vnd.jupyter.widget-view+json": {
       "model_id": "a88340737959479bb487bb477c08f14b",
       "version_major": 2,
       "version_minor": 0
      },
      "text/plain": [
       "Canvas(toolbar=Toolbar(toolitems=[('Home', 'Reset original view', 'home', 'home'), ('Back', 'Back to previous …"
      ]
     },
     "metadata": {},
     "output_type": "display_data"
    },
    {
     "data": {
      "text/plain": [
       "<WCSAxesSubplot:>"
      ]
     },
     "execution_count": 17,
     "metadata": {},
     "output_type": "execute_result"
    }
   ],
   "source": [
    "# I use jupyter lab which uses this widget command for interactive plotting\n",
    "#%matplotlib notebook\n",
    "%matplotlib widget  \n",
    "\n",
    "mag_map = level2_cube.B_map\n",
    "mag_map.plot()"
   ]
  },
  {
   "cell_type": "code",
   "execution_count": null,
   "id": "4f8cbb99-b5b9-4660-8409-ae19c6d63201",
   "metadata": {},
   "outputs": [],
   "source": []
  }
 ],
 "metadata": {
  "kernelspec": {
   "display_name": "Python [conda env:stokespy] *",
   "language": "python",
   "name": "conda-env-stokespy-py"
  },
  "language_info": {
   "codemirror_mode": {
    "name": "ipython",
    "version": 3
   },
   "file_extension": ".py",
   "mimetype": "text/x-python",
   "name": "python",
   "nbconvert_exporter": "python",
   "pygments_lexer": "ipython3",
   "version": "3.9.2"
  },
  "widgets": {
   "application/vnd.jupyter.widget-state+json": {
    "state": {
     "31d4694f7fb24631a56b992acf349b5f": {
      "model_module": "@jupyter-widgets/base",
      "model_module_version": "1.2.0",
      "model_name": "LayoutModel",
      "state": {}
     },
     "5cd3d9e4fcbe4c809740f6e68c088891": {
      "model_module": "jupyter-matplotlib",
      "model_module_version": "^0.9.0",
      "model_name": "ToolbarModel",
      "state": {
       "layout": "IPY_MODEL_a99f1ed5dd9d49c18cae00cc9cd49bab",
       "toolitems": [
        [
         "Home",
         "Reset original view",
         "home",
         "home"
        ],
        [
         "Back",
         "Back to previous view",
         "arrow-left",
         "back"
        ],
        [
         "Forward",
         "Forward to next view",
         "arrow-right",
         "forward"
        ],
        [
         "Pan",
         "Left button pans, Right button zooms\nx/y fixes axis, CTRL fixes aspect",
         "arrows",
         "pan"
        ],
        [
         "Zoom",
         "Zoom to rectangle\nx/y fixes axis, CTRL fixes aspect",
         "square-o",
         "zoom"
        ],
        [
         "Download",
         "Download plot",
         "floppy-o",
         "save_figure"
        ]
       ]
      }
     },
     "a88340737959479bb487bb477c08f14b": {
      "model_module": "jupyter-matplotlib",
      "model_module_version": "^0.9.0",
      "model_name": "MPLCanvasModel",
      "state": {
       "_cursor": "default",
       "_figure_label": "Figure 1",
       "_height": 480,
       "_width": 640,
       "layout": "IPY_MODEL_31d4694f7fb24631a56b992acf349b5f",
       "toolbar": "IPY_MODEL_5cd3d9e4fcbe4c809740f6e68c088891",
       "toolbar_position": "left"
      }
     },
     "a99f1ed5dd9d49c18cae00cc9cd49bab": {
      "model_module": "@jupyter-widgets/base",
      "model_module_version": "1.2.0",
      "model_name": "LayoutModel",
      "state": {}
     }
    },
    "version_major": 2,
    "version_minor": 0
   }
  }
 },
 "nbformat": 4,
 "nbformat_minor": 5
}
